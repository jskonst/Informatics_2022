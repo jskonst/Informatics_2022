{
 "cells": [
  {
   "cell_type": "markdown",
   "metadata": {},
   "source": [
    "Реализовать следующие классы (1 класс для 1 варианта) Определить минимум 3 переменных класса и 3 метода для класса и как миимум 2 конструктора:\\\n",
    "Кошка (получить и установить возраст) \\\n",
    "Лисица (ASCII код возвращаемый на getView) \\\n",
    "Собака (получить и установить возраст)\\\n",
    "Автомобиль (получить и установить скорость)\\\n",
    "Компьютер (получить и установить объем жесткого диска)\\\n",
    "Телефон (получить и установить номер вызываемого абонента)\\\n",
    "Телевизор (получить и установить номер канала) - Нарисовать ascii графикой\\\n",
    "Кролик (получить и установить возраст)\\\n",
    "Самолет (получить и установить скорость полета)\\\n",
    "Стол (получить и установить размеры стола)\\\n",
    "Документ (тип документа, размер)\\\n",
    "Человек (Person)\\\n",
    "Работник (Employee - дата примема на работу)\\\n",
    "Блюдо в меню (Dish)\\\n",
    "Персонаж игры (класс, уровень)\\\n",
    "Страна (население, площадь)\\\n",
    "Город (население, страна)\\\n",
    "Корабль (длина, водоизмещеие)\\\n",
    "Мышка (получить и установить возраст)\\\n",
    "Свинка (получить сало)\\\n",
    "Пистолет (модель, калибр...)\\\n",
    "Фильм (метод - проиграть фильм)"
   ]
  },
  {
   "cell_type": "code",
   "execution_count": 1,
   "metadata": {},
   "outputs": [
    {
     "data": {
      "text/plain": [
       "('Barsik, grey, age 3', 'Barsik says meow!')"
      ]
     },
     "execution_count": 1,
     "metadata": {},
     "output_type": "execute_result"
    }
   ],
   "source": [
    "class Cat:\n",
    "    def __init__(self, name, colour, age=0):  # Fixed the order of parameters\n",
    "        self.age = age\n",
    "        self.name = name\n",
    "        self.colour = colour\n",
    "\n",
    "    def get_age(self):\n",
    "        return self.age\n",
    "\n",
    "    def set_age(self, age):\n",
    "        self.age = age\n",
    "\n",
    "    def meow(self):\n",
    "        return f\"{self.name} says meow!\"\n",
    "\n",
    "    def __str__(self):\n",
    "        return f\"{self.name}, {self.colour}, age {self.age}\"\n",
    "\n",
    "    \n",
    "my_cat = Cat(name=\"Barsik\", colour=\"grey\", age=3)\n",
    "\n",
    "#test\n",
    "cat_details = str(my_cat)\n",
    "cat_meow = my_cat.meow()\n",
    "\n",
    "(cat_details, cat_meow)\n"
   ]
  },
  {
   "cell_type": "code",
   "execution_count": 8,
   "metadata": {},
   "outputs": [
    {
     "data": {
      "text/plain": [
       "('Christina, red, ASCII @', '#')"
      ]
     },
     "execution_count": 8,
     "metadata": {},
     "output_type": "execute_result"
    }
   ],
   "source": [
    "class Fox:\n",
    "    def __init__(self, name, color, code=0):\n",
    "        self.name = name\n",
    "        self.color = color\n",
    "        self.ascii_code = code \n",
    "    \n",
    "    def getView(self):\n",
    "        return chr(self.ascii_code)\n",
    "\n",
    "    def setView(self, code):\n",
    "        self.ascii_code = code\n",
    "    \n",
    "    def __str__(self):\n",
    "        return f\"{self.name}, {self.color}, ASCII {self.getView()}\"\n",
    "    \n",
    "\n",
    "our_fox = Fox(name=\"Christina\", color = \"red\", code = 64)\n",
    "\n",
    "#test\n",
    "fox_details = str(our_fox)\n",
    "\n",
    "our_fox.setView(35)\n",
    "new_fox_code = our_fox.getView()\n",
    "\n",
    "(fox_details, new_fox_code)"
   ]
  },
  {
   "cell_type": "code",
   "execution_count": 16,
   "metadata": {},
   "outputs": [
    {
     "data": {
      "text/plain": [
       "('Bushyi, orange, age 8', 'Bushyi say aff!')"
      ]
     },
     "execution_count": 16,
     "metadata": {},
     "output_type": "execute_result"
    }
   ],
   "source": [
    "class Dog:\n",
    "    def __init__(self, name, color, age=0):\n",
    "        self.name = name\n",
    "        self.color = color\n",
    "        self.age = age\n",
    "        \n",
    "    def get_age(self):\n",
    "        return self.age\n",
    "\n",
    "    def set_age(self, age):\n",
    "        self.age = age\n",
    "    \n",
    "    def aff(self):\n",
    "        return f\"{self.name} say aff!\"\n",
    "    \n",
    "    def __str__(self):\n",
    "        return f\"{self.name}, {self.color}, age {self.age}\"\n",
    "        \n",
    "my_dog = Dog(name=\"Bushyi\", color=\"orange\", age=8)\n",
    "\n",
    "#test\n",
    "dog_details = str(my_dog)\n",
    "say_dog = my_dog.aff()\n",
    "\n",
    "dog_details, say_dog"
   ]
  },
  {
   "cell_type": "code",
   "execution_count": 24,
   "metadata": {},
   "outputs": [
    {
     "data": {
      "text/plain": [
       "('Subary Imprezo, speed 52', 'скорость увеличилась до 62')"
      ]
     },
     "execution_count": 24,
     "metadata": {},
     "output_type": "execute_result"
    }
   ],
   "source": [
    "class Avto:\n",
    "    def __init__(self, brand, model, speed=0):\n",
    "        self.brand = brand \n",
    "        self.model = model \n",
    "        self.speed = speed\n",
    "    \n",
    "    def get_speed(self):\n",
    "        return self.speed\n",
    "    \n",
    "    def set_speed(self, speed):\n",
    "        self.speed = speed \n",
    "    \n",
    "    def startyem(self):\n",
    "        self.speed += 10\n",
    "        return f\"скорость увеличилась до {self.speed}\"\n",
    "        \n",
    "    def __str__(self):\n",
    "        return f\"{self.brand} {self.model}, speed {self.speed}\"\n",
    "\n",
    "avto_drift = Avto(brand=\"Subary\", model=\"Imprezo\", speed=52)\n",
    "    \n",
    "#test \n",
    "info_avto = str(avto_drift)\n",
    "new_speed = avto_drift.startyem()\n",
    "\n",
    "info_avto, new_speed"
   ]
  },
  {
   "cell_type": "code",
   "execution_count": 25,
   "metadata": {},
   "outputs": [
    {
     "name": "stdout",
     "output_type": "stream",
     "text": [
      "better not buy\n"
     ]
    },
    {
     "data": {
      "text/plain": [
       "('Intel_5, Yes, capacity hhd 52', None)"
      ]
     },
     "execution_count": 25,
     "metadata": {},
     "output_type": "execute_result"
    }
   ],
   "source": [
    "class Computer:\n",
    "    def __init__(self, name_processor, has_gpu, hhd=0):\n",
    "        self.name_processor = name_processor\n",
    "        self.has_gpu = has_gpu\n",
    "        self.hhd = hhd \n",
    "        \n",
    "    def get_hhd(self):\n",
    "        return self.hhd\n",
    "    \n",
    "    def set_hhd(self, hhd):\n",
    "        self.hhd = hhd \n",
    "    \n",
    "    def firma(self):\n",
    "        if self.hhd > 100:\n",
    "            print(\"good hhd\")\n",
    "        else:\n",
    "            print(\"better not buy\")\n",
    "    \n",
    "    def __str__(self):\n",
    "        return f\"{self.name_processor}, {self.has_gpu}, capacity hhd {self.hhd}\"\n",
    "    \n",
    "my_comuter = Computer(name_processor=\"Intel_5\", has_gpu=\"Yes\", hhd=52)\n",
    "\n",
    "#test \n",
    "info_computer = str(my_comuter)\n",
    "f_firma = my_comuter.firma()\n",
    "\n",
    "info_computer, f_firma"
   ]
  },
  {
   "cell_type": "code",
   "execution_count": null,
   "metadata": {},
   "outputs": [],
   "source": [
    "class Phone:\n",
    "    def __init__(self, brand, model, call_number=0):\n",
    "        self.brand = brand\n",
    "        self.model = model\n",
    "        self.call_number = call_number\n",
    "\n",
    "    def get_call_number(self):\n",
    "        return self.call_number\n",
    "\n",
    "    def set_call_number(self, number):\n",
    "        self.call_number = number\n",
    "\n",
    "    def make_call(self):\n",
    "        return f\"Calling {self.call_number}...\"\n",
    "\n",
    "    def __str__(self):\n",
    "        return f\"{self.brand} {self.model}, calling {self.call_number}\"\n"
   ]
  },
  {
   "cell_type": "code",
   "execution_count": null,
   "metadata": {},
   "outputs": [],
   "source": [
    "class Television:\n",
    "    def __init__(self, brand, model, channel=1):\n",
    "        self.brand = brand\n",
    "        self.model = model\n",
    "        self.channel = channel\n",
    "\n",
    "    def get_channel(self):\n",
    "        return self.channel\n",
    "\n",
    "    def set_channel(self, channel):\n",
    "        self.channel = channel\n",
    "\n",
    "    def view_channel(self):\n",
    "        return f\"Viewing channel {self.channel}\"\n",
    "\n",
    "    def draw_tv(self):\n",
    "        return (\n",
    "            \" ________\\n\"\n",
    "            \"|        |\\n\"\n",
    "            \"|  TV    |\\n\"\n",
    "            \"|________|\\n\"\n",
    "            \"  |    |\\n\"\n",
    "            \"  |____|\\n\"\n",
    "        )\n",
    "\n",
    "    def __str__(self):\n",
    "        return f\"{self.brand} {self.model}, channel {self.channel}\"\n"
   ]
  },
  {
   "cell_type": "code",
   "execution_count": null,
   "metadata": {},
   "outputs": [],
   "source": [
    "class Rabbit:\n",
    "    def __init__(self, name, breed, age=0):\n",
    "        self.name = name\n",
    "        self.breed = breed\n",
    "        self.age = age\n",
    "\n",
    "    def get_age(self):\n",
    "        return self.age\n",
    "\n",
    "    def set_age(self, age):\n",
    "        self.age = age\n",
    "\n",
    "    def hop(self):\n",
    "        return f\"{self.name} is hopping around!\"\n",
    "\n",
    "    def __str__(self):\n",
    "        return f\"{self.name}, Breed: {self.breed}, Age: {self.age}\"\n"
   ]
  },
  {
   "cell_type": "code",
   "execution_count": null,
   "metadata": {},
   "outputs": [],
   "source": [
    "class Airplane:\n",
    "    def __init__(self, model, airline, flight_speed=0):\n",
    "        self.model = model\n",
    "        self.airline = airline\n",
    "        self.flight_speed = flight_speed\n",
    "\n",
    "    def get_speed(self):\n",
    "        return self.flight_speed\n",
    "\n",
    "    def set_speed(self, speed):\n",
    "        self.flight_speed = speed\n",
    "\n",
    "    def fly(self):\n",
    "        return f\"{self.model} is flying at {self.flight_speed} km/h.\"\n",
    "\n",
    "    def __str__(self):\n",
    "        return f\"Model: {self.model}, Airline: {self.airline}, Speed: {self.flight_speed} km/h\"\n"
   ]
  },
  {
   "cell_type": "code",
   "execution_count": null,
   "metadata": {},
   "outputs": [],
   "source": [
    "class Table:\n",
    "    def __init__(self, material, length, width):\n",
    "        self.material = material\n",
    "        self.length = length\n",
    "        self.width = width\n",
    "\n",
    "    def get_dimensions(self):\n",
    "        return self.length, self.width\n",
    "\n",
    "    def set_dimensions(self, length, width):\n",
    "        self.length = length\n",
    "        self.width = width\n",
    "\n",
    "    def area(self):\n",
    "        return self.length * self.width\n",
    "\n",
    "    def __str__(self):\n",
    "        return f\"Material: {self.material}, Length: {self.length}, Width: {self.width}\"\n"
   ]
  },
  {
   "cell_type": "code",
   "execution_count": null,
   "metadata": {},
   "outputs": [],
   "source": [
    "class Document:\n",
    "    def __init__(self, title, doc_type, size):\n",
    "        self.title = title\n",
    "        self.doc_type = doc_type\n",
    "        self.size = size\n",
    "\n",
    "    def get_type(self):\n",
    "        return self.doc_type\n",
    "\n",
    "    def set_type(self, doc_type):\n",
    "        self.doc_type = doc_type\n",
    "\n",
    "    def get_size(self):\n",
    "        return self.size\n",
    "\n",
    "    def set_size(self, size):\n",
    "        self.size = size\n",
    "\n",
    "    def __str__(self):\n",
    "        return f\"Title: {self.title}, Type: {self.doc_type}, Size: {self.size} KB\"\n"
   ]
  },
  {
   "cell_type": "code",
   "execution_count": null,
   "metadata": {},
   "outputs": [],
   "source": [
    "class Person:\n",
    "    def __init__(self, name, age, gender):\n",
    "        self.name = name\n",
    "        self.age = age\n",
    "        self.gender = gender\n",
    "\n",
    "    def introduce(self):\n",
    "        return f\"Hello, my name is {self.name}.\"\n",
    "\n",
    "    def celebrate_birthday(self):\n",
    "        self.age += 1\n",
    "        return f\"Happy birthday! Now I am {self.age} years old.\"\n",
    "\n",
    "    def __str__(self):\n",
    "        return f\"Name: {self.name}, Age: {self.age}, Gender: {self.gender}\"\n"
   ]
  },
  {
   "cell_type": "code",
   "execution_count": null,
   "metadata": {},
   "outputs": [],
   "source": [
    "class Employee(Person):\n",
    "    def __init__(self, name, age, gender, hire_date):\n",
    "        super().__init__(name, age, gender)\n",
    "        self.hire_date = hire_date\n",
    "\n",
    "    def get_hire_date(self):\n",
    "        return self.hire_date\n",
    "\n",
    "    def set_hire_date(self, date):\n",
    "        self.hire_date = date\n",
    "\n",
    "    def work(self):\n",
    "        return f\"{self.name} is working.\"\n",
    "\n",
    "    def __str__(self):\n",
    "        return f\"{super().__str__()}, Hire Date: {self.hire_date}\"\n"
   ]
  },
  {
   "cell_type": "code",
   "execution_count": null,
   "metadata": {},
   "outputs": [],
   "source": [
    "class Dish:\n",
    "    def __init__(self, name, cuisine, price):\n",
    "        self.name = name\n",
    "        self.cuisine = cuisine\n",
    "        self.price = price\n",
    "\n",
    "    def get_price(self):\n",
    "        return self.price\n",
    "\n",
    "    def set_price(self, price):\n",
    "        self.price = price\n",
    "\n",
    "    def describe(self):\n",
    "        return f\"{self.name} is a delicious {self.cuisine} dish.\"\n",
    "\n",
    "    def __str__(self):\n",
    "        return f\"Name: {self.name}, Cuisine: {self.cuisine}, Price: {self.price}\"\n"
   ]
  },
  {
   "cell_type": "code",
   "execution_count": null,
   "metadata": {},
   "outputs": [],
   "source": [
    "class GameCharacter:\n",
    "    def __init__(self, name, character_class, level=1):\n",
    "        self.name = name\n",
    "        self.character_class = character_class\n",
    "        self.level = level\n",
    "\n",
    "    def level_up(self):\n",
    "        self.level += 1\n",
    "\n",
    "    def get_level(self):\n",
    "        return self.level\n",
    "\n",
    "    def display_character(self):\n",
    "        return f\"Name: {self.name}, Class: {self.character_class}, Level: {self.level}\"\n",
    "\n",
    "    def __str__(self):\n",
    "        return self.display_character()\n"
   ]
  },
  {
   "cell_type": "code",
   "execution_count": null,
   "metadata": {},
   "outputs": [],
   "source": [
    "class Country:\n",
    "    def __init__(self, name, population, area):\n",
    "        self.name = name\n",
    "        self.population = population\n",
    "        self.area = area\n",
    "\n",
    "    def get_population_density(self):\n",
    "        return self.population / self.area\n",
    "\n",
    "    def update_population(self, new_population):\n",
    "        self.population = new_population\n",
    "\n",
    "    def __str__(self):\n",
    "        return f\"Country: {self.name}, Population: {self.population}, Area: {self.area}\"\n"
   ]
  },
  {
   "cell_type": "code",
   "execution_count": null,
   "metadata": {},
   "outputs": [],
   "source": [
    "class City:\n",
    "    def __init__(self, name, population, country):\n",
    "        self.name = name\n",
    "        self.population = population\n",
    "        self.country = country\n",
    "\n",
    "    def get_population(self):\n",
    "        return self.population\n",
    "\n",
    "    def change_country(self, new_country):\n",
    "        self.country = new_country\n",
    "\n",
    "    def __str__(self):\n",
    "        return f\"City: {self.name}, Population: {self.population}, Country: {self.country}\"\n"
   ]
  },
  {
   "cell_type": "code",
   "execution_count": null,
   "metadata": {},
   "outputs": [],
   "source": [
    "class Ship:\n",
    "    def __init__(self, name, length, displacement):\n",
    "        self.name = name\n",
    "        self.length = length\n",
    "        self.displacement = displacement\n",
    "\n",
    "    def get_displacement(self):\n",
    "        return self.displacement\n",
    "\n",
    "    def set_displacement(self, new_displacement):\n",
    "        self.displacement = new_displacement\n",
    "\n",
    "    def __str__(self):\n",
    "        return f\"Ship: {self.name}, Length: {self.length}m, Displacement: {self.displacement} tons\"\n"
   ]
  },
  {
   "cell_type": "code",
   "execution_count": null,
   "metadata": {},
   "outputs": [],
   "source": [
    "class Mouse:\n",
    "    def __init__(self, name, breed, age=0):\n",
    "        self.name = name\n",
    "        self.breed = breed\n",
    "        self.age = age\n",
    "\n",
    "    def get_age(self):\n",
    "        return self.age\n",
    "\n",
    "    def set_age(self, age):\n",
    "        self.age = age\n",
    "\n",
    "    def squeak(self):\n",
    "        return \"Squeak!\"\n",
    "\n",
    "    def __str__(self):\n",
    "        return f\"Mouse: {self.name}, Breed: {self.breed}, Age: {self.age}\"\n"
   ]
  },
  {
   "cell_type": "code",
   "execution_count": null,
   "metadata": {},
   "outputs": [],
   "source": [
    "class Pig:\n",
    "    def __init__(self, name, weight, fat_content):\n",
    "        self.name = name\n",
    "        self.weight = weight\n",
    "        self.fat_content = fat_content\n",
    "\n",
    "    def get_fat_content(self):\n",
    "        return self.fat_content\n",
    "\n",
    "    def feed(self, food_amount):\n",
    "        self.weight += food_amount\n",
    "        self.fat_content += food_amount * 0.1\n",
    "\n",
    "    def __str__(self):\n",
    "        return f\"Pig: {self.name}, Weight: {self.weight}kg, Fat Content: {self.fat_content}%\"\n"
   ]
  },
  {
   "cell_type": "code",
   "execution_count": null,
   "metadata": {},
   "outputs": [],
   "source": [
    "class Gun:\n",
    "    def __init__(self, model, caliber, magazine_capacity):\n",
    "        self.model = model\n",
    "        self.caliber = caliber\n",
    "        self.magazine_capacity = magazine_capacity\n",
    "\n",
    "    def fire(self):\n",
    "        return \"Bang!\"\n",
    "\n",
    "    def reload(self):\n",
    "        return \"Reloading...\"\n",
    "\n",
    "    def __str__(self):\n",
    "        return f\"Gun: Model {self.model}, Caliber: {self.caliber}, Magazine Capacity: {self.magazine_capacity}\"\n"
   ]
  },
  {
   "cell_type": "code",
   "execution_count": null,
   "metadata": {},
   "outputs": [],
   "source": [
    "class Movie:\n",
    "    def __init__(self, title, director, duration):\n",
    "        self.title = title\n",
    "        self.director = director\n",
    "        self.duration = duration\n",
    "\n",
    "    def play_movie(self):\n",
    "        return f\"Playing {self.title} by {self.director}\"\n",
    "\n",
    "    def get_duration(self):\n",
    "        return self.duration\n",
    "\n",
    "    def __str__(self):\n",
    "        return f\"Movie: {self.title}, Director: {self.director}, Duration: {self.duration} minutes\"\n"
   ]
  }
 ],
 "metadata": {
  "kernelspec": {
   "display_name": "Python 3",
   "language": "python",
   "name": "python3"
  },
  "language_info": {
   "codemirror_mode": {
    "name": "ipython",
    "version": 3
   },
   "file_extension": ".py",
   "mimetype": "text/x-python",
   "name": "python",
   "nbconvert_exporter": "python",
   "pygments_lexer": "ipython3",
   "version": "3.7.3"
  }
 },
 "nbformat": 4,
 "nbformat_minor": 4
}
